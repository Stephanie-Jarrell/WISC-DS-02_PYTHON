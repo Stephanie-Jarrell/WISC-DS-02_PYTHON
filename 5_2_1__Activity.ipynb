{
  "nbformat": 4,
  "nbformat_minor": 0,
  "metadata": {
    "colab": {
      "name": "5.2.1_ Activity.ipynb",
      "provenance": [],
      "collapsed_sections": [],
      "include_colab_link": true
    },
    "kernelspec": {
      "name": "python3",
      "display_name": "Python 3"
    },
    "language_info": {
      "name": "python"
    }
  },
  "cells": [
    {
      "cell_type": "markdown",
      "metadata": {
        "id": "view-in-github",
        "colab_type": "text"
      },
      "source": [
        "<a href=\"https://colab.research.google.com/github/Stephanie-Jarrell/WISC-DS-02_PYTHON/blob/main/5_2_1__Activity.ipynb\" target=\"_parent\"><img src=\"https://colab.research.google.com/assets/colab-badge.svg\" alt=\"Open In Colab\"/></a>"
      ]
    },
    {
      "cell_type": "markdown",
      "metadata": {
        "id": "Iua1gaou8dEV"
      },
      "source": [
        "# Beowulf’s Armour Shop\n",
        "\n",
        "**5.2.1 Activity**\n",
        "\n",
        "<img src='https://drive.google.com/uc?id=19qL5rc5tzR8L6ie9Ajl7hJbY5s9Gkxs7' alt='Source: elderscrolls.fandom.com' width=250 align=right>\n",
        "\n",
        "Your uncle owns an armor shop in medieval Germany (notice “armour” is the British spelling for the word armor!) He makes armor primarily from dragon scales, though they are only collected from dragons who shed naturally, so he’s proud to say they’re a vegan shop.\n",
        "\n",
        "You’ve been asked to create a poster for the shop face, which has a Python script already made for it. But a wild dog got in the shop last night and the code has a bunch of errors in it now. You have to fix the errors and run the code to create a new shop poster!\n",
        "\n",
        "**Prepare**\n",
        "\n",
        "Before we get started, let's prepare by uploading the files we need into our Colab *Files* section to create the poster.\n",
        "\n",
        "Upload your poster materials by clicking on the folder icon to the left of your notebook, then clicking the file icon to upload these files:\n",
        "\n",
        "*   dragon_poster.jpg\n",
        "*   OfenbacherSchwabCAT.ttf\n",
        "\n",
        "<img src='https://drive.google.com/uc?id=1JwMay3raYJWQYlzNhIfyfDmE2mPEiyU8' width=300>\n",
        "\n",
        "**Examining Syntax**\n",
        "\n",
        "Below, we'll look at the code snippets and figure out what the incorrect syntax could be.\n",
        "\n",
        "Remember they could be:<br>\n",
        "a.\tSpelling <br>\n",
        "b.\tPunctuation<br>\n",
        "c.\tWrong syntax<br>\n",
        "d.\tCase sensitivity<br>\n",
        "e.\tIndentation\n",
        "\n",
        "As you look through each snippet: \n",
        "\n",
        "*   Look at the code below and write down the syntax error. \n",
        "*   Run the cell to see what the compiler says is wrong with it. This might help you figure out the error.\n",
        "\n",
        "Additional help in finding syntax errors:\n",
        "https://www.codeleaks.io/fix-syntax-errors-in-python/ \n",
        "\n",
        "This is a cheat sheet for Python syntax:\n",
        "https://www.w3schools.com/python/python_syntax.asp"
      ]
    },
    {
      "cell_type": "markdown",
      "metadata": {
        "id": "bQxBI1uIQX2K"
      },
      "source": [
        "**1. What is wrong with this syntax?**"
      ]
    },
    {
      "cell_type": "code",
      "metadata": {
        "id": "Ih5OGXzF8a1i"
      },
      "source": [
        "from PIL import (Image, ImageDraw, ImageFont) # Import libraries (1 syntax error)"
      ],
      "execution_count": 3,
      "outputs": []
    },
    {
      "cell_type": "markdown",
      "metadata": {
        "id": "uq6u4FgIC48r"
      },
      "source": [
        "*WRITE SYNTAX ERROR HERE*"
      ]
    },
    {
      "cell_type": "markdown",
      "metadata": {
        "id": "LRmKYo0bDmgM"
      },
      "source": [
        "**2. What is wrong with this syntax?**"
      ]
    },
    {
      "cell_type": "code",
      "metadata": {
        "id": "Rgx-8JjME0WU"
      },
      "source": [
        "# Create new image object with a background image uploaded (2 syntax errors)\n",
        "img = Image.open(\"dragon_poster.jpg\")"
      ],
      "execution_count": 28,
      "outputs": []
    },
    {
      "cell_type": "markdown",
      "metadata": {
        "id": "vdG7Ka0nFSQi"
      },
      "source": [
        "*WRITE SYNTAX ERROR HERE*"
      ]
    },
    {
      "cell_type": "markdown",
      "metadata": {
        "id": "4MQLBlOJFZlc"
      },
      "source": [
        "**3. What is wrong with this syntax?**"
      ]
    },
    {
      "cell_type": "code",
      "metadata": {
        "id": "mUywHI4jFdaY"
      },
      "source": [
        "# Use a gothic font and increase the size to 100px (1 syntax error)\n",
        "font = ImageFont.truetype('OfenbacherSchwabCAT.ttf', 100)"
      ],
      "execution_count": 29,
      "outputs": []
    },
    {
      "cell_type": "markdown",
      "metadata": {
        "id": "b-3F__vwFh2G"
      },
      "source": [
        "Removed extra parthesis at end"
      ]
    },
    {
      "cell_type": "markdown",
      "metadata": {
        "id": "01LPTy7DFlVh"
      },
      "source": [
        "**4. What is wrong with this syntax?**"
      ]
    },
    {
      "cell_type": "code",
      "metadata": {
        "id": "R0zBnjZOFu30"
      },
      "source": [
        "# Draw the image (2 syntax errors)\n",
        "d = ImageDraw.Draw(img)"
      ],
      "execution_count": 30,
      "outputs": []
    },
    {
      "cell_type": "markdown",
      "metadata": {
        "id": "2icj4UsWF2bk"
      },
      "source": [
        "*WRITE SYNTAX ERROR HERE*"
      ]
    },
    {
      "cell_type": "markdown",
      "metadata": {
        "id": "WVyxK9GIGDew"
      },
      "source": [
        "**5. What is wrong with this syntax?**"
      ]
    },
    {
      "cell_type": "code",
      "metadata": {
        "id": "crIiCbzoGL_t"
      },
      "source": [
        "# Add text to the image, position it on the poster, choose text color & font (1 syntax error)\n",
        "d.text((55,110), \"Beowolf's Armour Shop\", fill=(255,255,255), font=font)"
      ],
      "execution_count": 31,
      "outputs": []
    },
    {
      "cell_type": "markdown",
      "metadata": {
        "id": "49C8THtsGQhj"
      },
      "source": [
        "semi colin"
      ]
    },
    {
      "cell_type": "markdown",
      "metadata": {
        "id": "bKSYi99sGSz6"
      },
      "source": [
        "**6. What is wrong with this syntax? This is a BONUS question.**"
      ]
    },
    {
      "cell_type": "code",
      "metadata": {
        "id": "9b6PYXyRGVuR"
      },
      "source": [
        "# Save the completed image to your root folder \n",
        "# A \"root\" folder is wherever your Python script is at\n",
        "# (BONUS: 2 syntax errors)\n",
        "img.save(\"beowulfs_armour_shop_poster.png\")"
      ],
      "execution_count": 32,
      "outputs": []
    },
    {
      "cell_type": "markdown",
      "metadata": {
        "id": "ge2I7Y0sGkN5"
      },
      "source": [
        "# Running the right code\n",
        "\n",
        "After you fixed the bugs in your code, you should be able to run each cell again from the top and see an image appear in your Google Colab files, named **beowulfs_armour_shop_poster.png**. \n",
        "\n",
        "Open this image to view it. This is the poster you created for your uncle’s shop!\n",
        "\n",
        "Dragon art image source: https://www.deviantart.com/drakainaqueen/art/Black-Dragon-head-1794675860.2 \n"
      ]
    }
  ]
}