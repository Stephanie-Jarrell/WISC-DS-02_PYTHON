{
  "nbformat": 4,
  "nbformat_minor": 0,
  "metadata": {
    "colab": {
      "name": "Impress_Your_Date.ipynb",
      "provenance": [],
      "authorship_tag": "ABX9TyNJJTJM2vTPBA/KQJb6FE2w",
      "include_colab_link": true
    },
    "kernelspec": {
      "name": "python3",
      "display_name": "Python 3"
    },
    "language_info": {
      "name": "python"
    }
  },
  "cells": [
    {
      "cell_type": "markdown",
      "metadata": {
        "id": "view-in-github",
        "colab_type": "text"
      },
      "source": [
        "<a href=\"https://colab.research.google.com/github/Stephanie-Jarrell/WISC-DS-02_PYTHON/blob/main/Impress_Your_Date.ipynb\" target=\"_parent\"><img src=\"https://colab.research.google.com/assets/colab-badge.svg\" alt=\"Open In Colab\"/></a>"
      ]
    },
    {
      "cell_type": "markdown",
      "source": [
        "# Access the Cocktail API"
      ],
      "metadata": {
        "id": "dvHheNDhn6fa"
      }
    },
    {
      "cell_type": "code",
      "source": [
        "# import libraries\n",
        "import json\n",
        "import requests\n",
        "\n",
        "# using the requests library, call the API\n",
        "r = requests.get(\"https://www.thecocktaildb.com/api/json/v1/1/search.php?s=manhattan\")\n",
        "\n",
        "# change the response you get into text, then convert to JSON\n",
        "parsed = json.loads(r.text)\n",
        "\n",
        "# set the formatting of the JSON text and pring\n",
        "print(json.dumps(parsed, indent=4, sort_keys=True))"
      ],
      "metadata": {
        "colab": {
          "base_uri": "https://localhost:8080/"
        },
        "id": "RzPn9VKTm3uS",
        "outputId": "d5338898-b8a4-44e3-d43d-10d36e0adc2a"
      },
      "execution_count": 9,
      "outputs": [
        {
          "output_type": "stream",
          "name": "stdout",
          "text": [
            "{\n",
            "    \"drinks\": [\n",
            "        {\n",
            "            \"dateModified\": \"2017-09-02 12:07:09\",\n",
            "            \"idDrink\": \"11008\",\n",
            "            \"strAlcoholic\": \"Alcoholic\",\n",
            "            \"strCategory\": \"Cocktail\",\n",
            "            \"strCreativeCommonsConfirmed\": \"Yes\",\n",
            "            \"strDrink\": \"Manhattan\",\n",
            "            \"strDrinkAlternate\": null,\n",
            "            \"strDrinkThumb\": \"https://www.thecocktaildb.com/images/media/drink/yk70e31606771240.jpg\",\n",
            "            \"strGlass\": \"Cocktail glass\",\n",
            "            \"strIBA\": \"Unforgettables\",\n",
            "            \"strImageAttribution\": \"Sarah Stierch (CC BY 4.0)\",\n",
            "            \"strImageSource\": \"https://commons.wikimedia.org/wiki/File:Oak_Fired_Manhattan_-_Stierch_1.jpg\",\n",
            "            \"strIngredient1\": \"Sweet Vermouth\",\n",
            "            \"strIngredient10\": null,\n",
            "            \"strIngredient11\": null,\n",
            "            \"strIngredient12\": null,\n",
            "            \"strIngredient13\": null,\n",
            "            \"strIngredient14\": null,\n",
            "            \"strIngredient15\": null,\n",
            "            \"strIngredient2\": \"Bourbon\",\n",
            "            \"strIngredient3\": \"Angostura bitters\",\n",
            "            \"strIngredient4\": \"Ice\",\n",
            "            \"strIngredient5\": \"Maraschino cherry\",\n",
            "            \"strIngredient6\": \"Orange peel\",\n",
            "            \"strIngredient7\": null,\n",
            "            \"strIngredient8\": null,\n",
            "            \"strIngredient9\": null,\n",
            "            \"strInstructions\": \"Stirred over ice, strained into a chilled glass, garnished, and served up.\",\n",
            "            \"strInstructionsDE\": \"\\u00dcber Eis ger\\u00fchrt, in ein gek\\u00fchltes Glas geseiht, garniert und serviert.\",\n",
            "            \"strInstructionsES\": null,\n",
            "            \"strInstructionsFR\": null,\n",
            "            \"strInstructionsIT\": \"Mescolate su ghiaccio, filtrate in un bicchiere freddo, guarnite e servite.\",\n",
            "            \"strInstructionsZH-HANS\": null,\n",
            "            \"strInstructionsZH-HANT\": null,\n",
            "            \"strMeasure1\": \"3/4 oz \",\n",
            "            \"strMeasure10\": null,\n",
            "            \"strMeasure11\": null,\n",
            "            \"strMeasure12\": null,\n",
            "            \"strMeasure13\": null,\n",
            "            \"strMeasure14\": null,\n",
            "            \"strMeasure15\": null,\n",
            "            \"strMeasure2\": \"2 1/2 oz Blended \",\n",
            "            \"strMeasure3\": \"dash \",\n",
            "            \"strMeasure4\": \"2 or 3 \",\n",
            "            \"strMeasure5\": \"1 \",\n",
            "            \"strMeasure6\": \"1 twist of \",\n",
            "            \"strMeasure7\": null,\n",
            "            \"strMeasure8\": null,\n",
            "            \"strMeasure9\": null,\n",
            "            \"strTags\": \"IBA,Classic,Alcoholic\",\n",
            "            \"strVideo\": \"https://www.youtube.com/watch?v=TFWPtkNoF4Y\"\n",
            "        }\n",
            "    ]\n",
            "}\n"
          ]
        }
      ]
    }
  ]
}