{
  "nbformat": 4,
  "nbformat_minor": 0,
  "metadata": {
    "colab": {
      "name": "Async_Project_Data_Types.ipynb",
      "provenance": [],
      "collapsed_sections": [
        "LGhBGCfFuoJb",
        "CRphad9vwCec",
        "uYW1FBFL4pZv"
      ],
      "include_colab_link": true
    },
    "kernelspec": {
      "name": "python3",
      "display_name": "Python 3"
    },
    "language_info": {
      "name": "python"
    }
  },
  "cells": [
    {
      "cell_type": "markdown",
      "metadata": {
        "id": "view-in-github",
        "colab_type": "text"
      },
      "source": [
        "<a href=\"https://colab.research.google.com/github/Stephanie-Jarrell/WISC-DS-02_PYTHON/blob/main/Async_Project_Data_Types.ipynb\" target=\"_parent\"><img src=\"https://colab.research.google.com/assets/colab-badge.svg\" alt=\"Open In Colab\"/></a>"
      ]
    },
    {
      "cell_type": "markdown",
      "metadata": {
        "id": "MPEk4V7UtVOa"
      },
      "source": [
        "# **Asynchronous Project: Data Types**\n",
        "\n",
        "Congratulations on making it to the end of Python Programming, Module 2: Data Types! Now that you know about all the data types Python has to offer, this worksheet will take you through each type's functionalities. Don't worry if you don't know every single data type. Use your previous knowledge from SQL and pre- and post-class activities to help you!"
      ]
    },
    {
      "cell_type": "markdown",
      "metadata": {
        "id": "LGhBGCfFuoJb"
      },
      "source": [
        "## **Part 1: Research Activity**\n",
        "\n",
        "What is a \"Boolean variable\"? Where did the name \"Boole\" come from? Spend a few minutes doing some research on the origin of the name. \n",
        "\n",
        "*Simply double-click the below box and type your answer in the text box.*\n",
        "\n",
        "Write your answer below:"
      ]
    },
    {
      "cell_type": "markdown",
      "metadata": {
        "id": "41uCA-dKv-g4"
      },
      "source": [
        "Your answer here: ..."
      ]
    },
    {
      "cell_type": "markdown",
      "metadata": {
        "id": "CRphad9vwCec"
      },
      "source": [
        "## **Part 2: Testing Data Types**\n",
        "\n",
        "You will run the next few lines of code to complete a table of data types. Answer questions along the way!"
      ]
    },
    {
      "cell_type": "markdown",
      "metadata": {
        "id": "3DhoD5a7xB6h"
      },
      "source": [
        "Update the below table as you determine each data type. Replace each \"...\" with your answer.\n",
        "\n",
        "| Code                                        | Data Type |\n",
        "| ------------------------------------------- | --------- |\n",
        "| print (type(\"University of Virginia\"))      | ...       |\n",
        "| print (type(\"Madison\"))                     | ...       |\n",
        "| print (type(2021))                          | ...       |\n",
        "| print (type(37.6))                          | ...       |\n",
        "| print (type(True))                          | ...       |\n",
        "| print (type(False))                         | ...       |"
      ]
    },
    {
      "cell_type": "code",
      "metadata": {
        "id": "4I-zLbiC2oKQ",
        "outputId": "b527b546-9cda-4b50-ea00-4e69c5f68d07",
        "colab": {
          "base_uri": "https://localhost:8080/"
        }
      },
      "source": [
        "# Click the play button to run the cell and determine the outcome. \n",
        "print (type(\"University of Virginia\"))"
      ],
      "execution_count": 1,
      "outputs": [
        {
          "output_type": "stream",
          "name": "stdout",
          "text": [
            "<class 'str'>\n"
          ]
        }
      ]
    },
    {
      "cell_type": "code",
      "metadata": {
        "id": "XM2iY5mq24ou",
        "outputId": "ece6bc34-7677-4d89-ce5a-884f1a42a81b",
        "colab": {
          "base_uri": "https://localhost:8080/"
        }
      },
      "source": [
        "print (type(\"Madison\"))"
      ],
      "execution_count": 2,
      "outputs": [
        {
          "output_type": "stream",
          "name": "stdout",
          "text": [
            "<class 'str'>\n"
          ]
        }
      ]
    },
    {
      "cell_type": "code",
      "metadata": {
        "id": "3KHBOWnr28OF",
        "outputId": "edfeead2-bca0-4568-af4b-4ebf6086c0a1",
        "colab": {
          "base_uri": "https://localhost:8080/"
        }
      },
      "source": [
        "print (type(2021))"
      ],
      "execution_count": 3,
      "outputs": [
        {
          "output_type": "stream",
          "name": "stdout",
          "text": [
            "<class 'int'>\n"
          ]
        }
      ]
    },
    {
      "cell_type": "code",
      "metadata": {
        "id": "Jo1DHQN43AqE",
        "outputId": "c21e97cb-f37a-4055-8781-790fb95ee6cf",
        "colab": {
          "base_uri": "https://localhost:8080/"
        }
      },
      "source": [
        "print (type(37.6))"
      ],
      "execution_count": 4,
      "outputs": [
        {
          "output_type": "stream",
          "name": "stdout",
          "text": [
            "<class 'float'>\n"
          ]
        }
      ]
    },
    {
      "cell_type": "code",
      "metadata": {
        "id": "uJ4S-7ZY3FuX",
        "outputId": "e49aa43a-ac43-4c64-9cc6-5f08b24afe15",
        "colab": {
          "base_uri": "https://localhost:8080/"
        }
      },
      "source": [
        "print (type(True))"
      ],
      "execution_count": 7,
      "outputs": [
        {
          "output_type": "stream",
          "name": "stdout",
          "text": [
            "<class 'bool'>\n"
          ]
        }
      ]
    },
    {
      "cell_type": "markdown",
      "metadata": {
        "id": "FN4D3UPL3TTl"
      },
      "source": [
        "What happens if we replace 'True' with 'true'? \n",
        "\n",
        "Type the same code with a lower case t for true. "
      ]
    },
    {
      "cell_type": "code",
      "metadata": {
        "id": "19-T09Ff3iFG",
        "outputId": "4ecb77d6-bb5f-4b51-c258-6ac935b92c26",
        "colab": {
          "base_uri": "https://localhost:8080/",
          "height": 183
        }
      },
      "source": [
        "# Insert your code below and run the snippet.\n",
        "print (type(true))"
      ],
      "execution_count": 8,
      "outputs": [
        {
          "output_type": "error",
          "ename": "NameError",
          "evalue": "ignored",
          "traceback": [
            "\u001b[0;31m---------------------------------------------------------------------------\u001b[0m",
            "\u001b[0;31mNameError\u001b[0m                                 Traceback (most recent call last)",
            "\u001b[0;32m<ipython-input-8-28020c49e541>\u001b[0m in \u001b[0;36m<module>\u001b[0;34m()\u001b[0m\n\u001b[1;32m      1\u001b[0m \u001b[0;31m# Insert your code below and run the snippet.\u001b[0m\u001b[0;34m\u001b[0m\u001b[0;34m\u001b[0m\u001b[0;34m\u001b[0m\u001b[0m\n\u001b[0;32m----> 2\u001b[0;31m \u001b[0mprint\u001b[0m \u001b[0;34m(\u001b[0m\u001b[0mtype\u001b[0m\u001b[0;34m(\u001b[0m\u001b[0mtrue\u001b[0m\u001b[0;34m)\u001b[0m\u001b[0;34m)\u001b[0m\u001b[0;34m\u001b[0m\u001b[0;34m\u001b[0m\u001b[0m\n\u001b[0m",
            "\u001b[0;31mNameError\u001b[0m: name 'true' is not defined"
          ]
        }
      ]
    },
    {
      "cell_type": "markdown",
      "metadata": {
        "id": "MU6G9L_b3nR0"
      },
      "source": [
        "Your answer here: It errors out"
      ]
    },
    {
      "cell_type": "code",
      "metadata": {
        "id": "8cRNUVAS300s",
        "outputId": "1e9f6e03-7d7b-4354-adb5-c7f6eb763bf8",
        "colab": {
          "base_uri": "https://localhost:8080/"
        }
      },
      "source": [
        "print (type(False))"
      ],
      "execution_count": 9,
      "outputs": [
        {
          "output_type": "stream",
          "name": "stdout",
          "text": [
            "<class 'bool'>\n"
          ]
        }
      ]
    },
    {
      "cell_type": "markdown",
      "metadata": {
        "id": "uYW1FBFL4pZv"
      },
      "source": [
        "# **Part 3: Trial and Error**\n",
        "\n",
        "Complete the table by reading the expression and making a prediction about the data type. Then, run the command to print their data type and see how many you got right!"
      ]
    },
    {
      "cell_type": "markdown",
      "metadata": {
        "id": "aifp3OAd5XqG"
      },
      "source": [
        "| Expression      | Data Type Prediction | Actual Data Type |\n",
        "| --------------- | -------------------- | ---------------- |\n",
        "| \"Hi there\"      | str                  | ...              |\n",
        "| True            | bool                 | ...              |\n",
        "| 25              | int                  | ...              |\n",
        "| 12.11           | float                | ...              |\n",
        "| -273            | int                  | ...              |\n",
        "| \"25\"            | str                  | ...              |\n",
        "| \"True\"          | str                  | ...              |\n",
        "| False           | bool                 | ...              |\n",
        "| .0005           | float                | ...              |"
      ]
    },
    {
      "cell_type": "code",
      "metadata": {
        "id": "sThtA_CL7OAI",
        "outputId": "e970dc26-53b5-4cec-9df6-d739c20110a2",
        "colab": {
          "base_uri": "https://localhost:8080/"
        }
      },
      "source": [
        "print (type(\"Hi there\"))"
      ],
      "execution_count": 10,
      "outputs": [
        {
          "output_type": "stream",
          "name": "stdout",
          "text": [
            "<class 'str'>\n"
          ]
        }
      ]
    },
    {
      "cell_type": "markdown",
      "metadata": {
        "id": "l76BhgwS7SpM"
      },
      "source": [
        "The first code snippet was typed for you. Use the remaining cells to type your own code and run each cell. Don't forget to fill out the 'Actual Data Type' column in the table."
      ]
    },
    {
      "cell_type": "code",
      "metadata": {
        "id": "fBX3H9Qa7zBK",
        "outputId": "058cb7d1-14a5-4221-db23-58aab5b91c64",
        "colab": {
          "base_uri": "https://localhost:8080/"
        }
      },
      "source": [
        "# True\n",
        "print (type(True))"
      ],
      "execution_count": 12,
      "outputs": [
        {
          "output_type": "stream",
          "name": "stdout",
          "text": [
            "<class 'bool'>\n"
          ]
        }
      ]
    },
    {
      "cell_type": "code",
      "metadata": {
        "id": "r5iFqp1G7z5d",
        "outputId": "6346e37c-c299-47b4-8539-8f9f965be7f9",
        "colab": {
          "base_uri": "https://localhost:8080/"
        }
      },
      "source": [
        "# 25\n",
        "print (type(25))"
      ],
      "execution_count": 13,
      "outputs": [
        {
          "output_type": "stream",
          "name": "stdout",
          "text": [
            "<class 'int'>\n"
          ]
        }
      ]
    },
    {
      "cell_type": "code",
      "metadata": {
        "id": "4mLFu7Qe702i",
        "outputId": "e1a0d27d-2889-4bd4-fc67-82c4013299b7",
        "colab": {
          "base_uri": "https://localhost:8080/"
        }
      },
      "source": [
        "# 12.11\n",
        "print (type(12.11))"
      ],
      "execution_count": 14,
      "outputs": [
        {
          "output_type": "stream",
          "name": "stdout",
          "text": [
            "<class 'float'>\n"
          ]
        }
      ]
    },
    {
      "cell_type": "code",
      "metadata": {
        "id": "fRfMKEfe72iu",
        "outputId": "6ebf4d18-c097-4caa-acf7-057e8fd1a826",
        "colab": {
          "base_uri": "https://localhost:8080/"
        }
      },
      "source": [
        "# -273\n",
        "print(type(-273))"
      ],
      "execution_count": 15,
      "outputs": [
        {
          "output_type": "stream",
          "name": "stdout",
          "text": [
            "<class 'int'>\n"
          ]
        }
      ]
    },
    {
      "cell_type": "code",
      "metadata": {
        "id": "5iVosAyR74YO",
        "outputId": "26eb4502-85a1-4921-c486-09d48db5a585",
        "colab": {
          "base_uri": "https://localhost:8080/"
        }
      },
      "source": [
        "# \"25\"\n",
        "print(type(\"25)\"))"
      ],
      "execution_count": 16,
      "outputs": [
        {
          "output_type": "stream",
          "name": "stdout",
          "text": [
            "<class 'str'>\n"
          ]
        }
      ]
    },
    {
      "cell_type": "code",
      "metadata": {
        "id": "oKKW-6aR75xz",
        "outputId": "9086bfee-7a3b-4742-f64d-ae37fe209ccc",
        "colab": {
          "base_uri": "https://localhost:8080/"
        }
      },
      "source": [
        "# \"True\"\n",
        "print(type(\"True\"))"
      ],
      "execution_count": 17,
      "outputs": [
        {
          "output_type": "stream",
          "name": "stdout",
          "text": [
            "<class 'str'>\n"
          ]
        }
      ]
    },
    {
      "cell_type": "code",
      "metadata": {
        "id": "tqFgdDNc77cM",
        "outputId": "76b3f583-9ca3-4404-8231-7dc2f3194b18",
        "colab": {
          "base_uri": "https://localhost:8080/"
        }
      },
      "source": [
        "# False\n",
        "print(type(False))"
      ],
      "execution_count": 18,
      "outputs": [
        {
          "output_type": "stream",
          "name": "stdout",
          "text": [
            "<class 'bool'>\n"
          ]
        }
      ]
    },
    {
      "cell_type": "code",
      "metadata": {
        "id": "Lhz4-K2J78kM",
        "outputId": "ae56375e-a8ea-4cf1-c908-e6bc46dc39e9",
        "colab": {
          "base_uri": "https://localhost:8080/"
        }
      },
      "source": [
        "# .0005\n",
        "print(type(.0005))"
      ],
      "execution_count": 19,
      "outputs": [
        {
          "output_type": "stream",
          "name": "stdout",
          "text": [
            "<class 'float'>\n"
          ]
        }
      ]
    }
  ]
}